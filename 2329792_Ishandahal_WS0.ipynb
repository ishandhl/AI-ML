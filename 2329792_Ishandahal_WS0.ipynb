{
  "cells": [
    {
      "cell_type": "code",
      "execution_count": 44,
      "metadata": {
        "id": "GGt4kF8XYMLY"
      },
      "outputs": [],
      "source": [
        "import numpy as np"
      ]
    },
    {
      "cell_type": "code",
      "execution_count": null,
      "metadata": {
        "colab": {
          "base_uri": "https://localhost:8080/"
        },
        "id": "IFOaZzKuXn3M",
        "outputId": "e2cb56dd-3e4d-4a75-b4af-8b2ec00dac9b"
      },
      "outputs": [
        {
          "name": "stdout",
          "output_type": "stream",
          "text": [
            "Empty Array:\n",
            " [[4.9e-324 1.5e-323]\n",
            " [1.5e-323 4.9e-324]]\n"
          ]
        }
      ],
      "source": [
        "empty_array = np.empty((2, 2))\n",
        "print(\"Empty Array:\\n\", empty_array)"
      ]
    },
    {
      "cell_type": "code",
      "execution_count": null,
      "metadata": {
        "colab": {
          "base_uri": "https://localhost:8080/"
        },
        "id": "EtyNlpA5Xtyl",
        "outputId": "0cafa51a-e7f7-44da-f884-c7a89ccfcbde"
      },
      "outputs": [
        {
          "name": "stdout",
          "output_type": "stream",
          "text": [
            "All Ones Array:\n",
            " [[1. 1.]\n",
            " [1. 1.]\n",
            " [1. 1.]\n",
            " [1. 1.]]\n"
          ]
        }
      ],
      "source": [
        "ones_array = np.ones((4, 2))\n",
        "print(\"All Ones Array:\\n\", ones_array)"
      ]
    },
    {
      "cell_type": "code",
      "execution_count": null,
      "metadata": {
        "colab": {
          "base_uri": "https://localhost:8080/"
        },
        "id": "oPBYmBp-Xymq",
        "outputId": "eec3aa72-8b17-4750-88b9-ba67dc01db13"
      },
      "outputs": [
        {
          "name": "stdout",
          "output_type": "stream",
          "text": [
            "Filled Array:\n",
            " [[7 7 7]\n",
            " [7 7 7]\n",
            " [7 7 7]]\n"
          ]
        }
      ],
      "source": [
        "fill_value = 7\n",
        "filled_array = np.full((3, 3), fill_value)\n",
        "print(\"Filled Array:\\n\", filled_array)"
      ]
    },
    {
      "cell_type": "code",
      "execution_count": null,
      "metadata": {
        "colab": {
          "base_uri": "https://localhost:8080/"
        },
        "id": "y_HHxPbrX0JA",
        "outputId": "42d0619c-6705-46ad-9818-05c86b0c7804"
      },
      "outputs": [
        {
          "name": "stdout",
          "output_type": "stream",
          "text": [
            "Zeros Like Array:\n",
            " [[0 0 0]\n",
            " [0 0 0]]\n"
          ]
        }
      ],
      "source": [
        "reference_array = np.array([[1, 2, 3], [4, 5, 6]])\n",
        "zeros_like_array = np.zeros_like(reference_array)\n",
        "print(\"Zeros Like Array:\\n\", zeros_like_array)"
      ]
    },
    {
      "cell_type": "code",
      "execution_count": null,
      "metadata": {
        "colab": {
          "base_uri": "https://localhost:8080/"
        },
        "id": "b18BoRP4X2eS",
        "outputId": "94f1ff22-1a3e-4711-d4ef-3e5a53b2f2a5"
      },
      "outputs": [
        {
          "name": "stdout",
          "output_type": "stream",
          "text": [
            "Ones Like Array:\n",
            " [[1 1 1]\n",
            " [1 1 1]]\n"
          ]
        }
      ],
      "source": [
        "ones_like_array = np.ones_like(reference_array)\n",
        "print(\"Ones Like Array:\\n\", ones_like_array)"
      ]
    },
    {
      "cell_type": "code",
      "execution_count": null,
      "metadata": {
        "colab": {
          "base_uri": "https://localhost:8080/"
        },
        "id": "4maArhJRX7eu",
        "outputId": "d8b6dbd9-5792-432f-ad17-99a929c37483"
      },
      "outputs": [
        {
          "name": "stdout",
          "output_type": "stream",
          "text": [
            "Converted NumPy Array:\n",
            " [1 2 3 4]\n"
          ]
        }
      ],
      "source": [
        "new_list = [1, 2, 3, 4]\n",
        "numpy_array = np.array(new_list)\n",
        "print(\"Converted NumPy Array:\\n\", numpy_array)"
      ]
    },
    {
      "cell_type": "code",
      "execution_count": null,
      "metadata": {
        "colab": {
          "base_uri": "https://localhost:8080/"
        },
        "id": "t3aJlUgOYiiG",
        "outputId": "c9dc7d91-a340-447e-d8c8-4cab5404d901"
      },
      "outputs": [
        {
          "name": "stdout",
          "output_type": "stream",
          "text": [
            "Array with values from 10 to 49:\n",
            " [10 11 12 13 14 15 16 17 18 19 20 21 22 23 24 25 26 27 28 29 30 31 32 33\n",
            " 34 35 36 37 38 39 40 41 42 43 44 45 46 47 48 49]\n"
          ]
        }
      ],
      "source": [
        "array_range = np.arange(10, 50)\n",
        "print(\"Array with values from 10 to 49:\\n\", array_range)"
      ]
    },
    {
      "cell_type": "code",
      "execution_count": null,
      "metadata": {
        "colab": {
          "base_uri": "https://localhost:8080/"
        },
        "id": "a4SW9Vo-YqYD",
        "outputId": "0dc85094-5c72-4102-bc30-2aab96bfcad4"
      },
      "outputs": [
        {
          "name": "stdout",
          "output_type": "stream",
          "text": [
            "3x3 Matrix with values from 0 to 8:\n",
            " [[0 1 2]\n",
            " [3 4 5]\n",
            " [6 7 8]]\n"
          ]
        }
      ],
      "source": [
        "matrix_3x3 = np.arange(9).reshape(3, 3)\n",
        "print(\"3x3 Matrix with values from 0 to 8:\\n\", matrix_3x3)"
      ]
    },
    {
      "cell_type": "code",
      "execution_count": null,
      "metadata": {
        "colab": {
          "base_uri": "https://localhost:8080/"
        },
        "id": "lSWklYUxYs23",
        "outputId": "5226d8fc-4966-4d0b-9560-460e75da9d10"
      },
      "outputs": [
        {
          "name": "stdout",
          "output_type": "stream",
          "text": [
            "3x3 Identity Matrix:\n",
            " [[1. 0. 0.]\n",
            " [0. 1. 0.]\n",
            " [0. 0. 1.]]\n"
          ]
        }
      ],
      "source": [
        "identity_matrix = np.eye(3)\n",
        "print(\"3x3 Identity Matrix:\\n\", identity_matrix)"
      ]
    },
    {
      "cell_type": "code",
      "execution_count": null,
      "metadata": {
        "colab": {
          "base_uri": "https://localhost:8080/"
        },
        "id": "4tM--hDVYuwP",
        "outputId": "f837bcee-24c3-4517-fed3-ac654fa8eb09"
      },
      "outputs": [
        {
          "name": "stdout",
          "output_type": "stream",
          "text": [
            "\\Random Array Mean: 0.5005394963855504\n"
          ]
        }
      ],
      "source": [
        "random_array = np.random.random(30)\n",
        "mean_value = random_array.mean()\n",
        "print(\"\\Random Array Mean:\", mean_value)"
      ]
    },
    {
      "cell_type": "code",
      "execution_count": null,
      "metadata": {
        "colab": {
          "base_uri": "https://localhost:8080/"
        },
        "id": "OGDTN0NnYyif",
        "outputId": "bfab7b30-d7ee-4240-bfda-9766ac3e54d7"
      },
      "outputs": [
        {
          "name": "stdout",
          "output_type": "stream",
          "text": [
            "Min value: 0.004998289831889768 Max value: 0.9987129218787908\n"
          ]
        }
      ],
      "source": [
        "random_matrix = np.random.random((10, 10))\n",
        "min_value = random_matrix.min()\n",
        "max_value = random_matrix.max()\n",
        "print(\"Min value:\", min_value, \"Max value:\", max_value)"
      ]
    },
    {
      "cell_type": "code",
      "execution_count": null,
      "metadata": {
        "colab": {
          "base_uri": "https://localhost:8080/"
        },
        "id": "IV2_ucefY0SY",
        "outputId": "aea9b730-e80f-4a5a-e78f-68cecd700262"
      },
      "outputs": [
        {
          "name": "stdout",
          "output_type": "stream",
          "text": [
            "Zero Array with 5th element as 1:\n",
            " [0. 0. 0. 0. 1. 0. 0. 0. 0. 0.]\n"
          ]
        }
      ],
      "source": [
        "zero_array = np.zeros(10)\n",
        "zero_array[4] = 1\n",
        "print(\"Zero Array with 5th element as 1:\\n\", zero_array)"
      ]
    },
    {
      "cell_type": "code",
      "execution_count": null,
      "metadata": {
        "colab": {
          "base_uri": "https://localhost:8080/"
        },
        "id": "BdHrlyuzY2NV",
        "outputId": "e18277da-5836-4005-debe-fef9ffb1e7c5"
      },
      "outputs": [
        {
          "name": "stdout",
          "output_type": "stream",
          "text": [
            "Reversed Array:\n",
            " [0 4 0 0 2 1]\n"
          ]
        }
      ],
      "source": [
        "arr = np.array([1, 2, 0, 0, 4, 0])\n",
        "reversed_arr = arr[::-1]\n",
        "print(\"Reversed Array:\\n\", reversed_arr)"
      ]
    },
    {
      "cell_type": "code",
      "execution_count": null,
      "metadata": {
        "colab": {
          "base_uri": "https://localhost:8080/"
        },
        "id": "JoevswuYY4c0",
        "outputId": "83460e56-cc5c-4035-a799-907bce19e38b"
      },
      "outputs": [
        {
          "name": "stdout",
          "output_type": "stream",
          "text": [
            "2D Array with 1 on border and 0 inside:\n",
            " [[1. 1. 1. 1. 1.]\n",
            " [1. 0. 0. 0. 1.]\n",
            " [1. 0. 0. 0. 1.]\n",
            " [1. 0. 0. 0. 1.]\n",
            " [1. 1. 1. 1. 1.]]\n"
          ]
        }
      ],
      "source": [
        "border_array = np.ones((5, 5))\n",
        "border_array[1:-1, 1:-1] = 0\n",
        "print(\"2D Array with 1 on border and 0 inside:\\n\", border_array)"
      ]
    },
    {
      "cell_type": "code",
      "execution_count": null,
      "metadata": {
        "colab": {
          "base_uri": "https://localhost:8080/"
        },
        "id": "pI1TUy0cY55m",
        "outputId": "b3d820a6-1f21-4c26-99c7-ff9e6dccc985"
      },
      "outputs": [
        {
          "name": "stdout",
          "output_type": "stream",
          "text": [
            "8x8 Checkerboard Pattern:\n",
            " [[0 1 0 1 0 1 0 1]\n",
            " [1 0 1 0 1 0 1 0]\n",
            " [0 1 0 1 0 1 0 1]\n",
            " [1 0 1 0 1 0 1 0]\n",
            " [0 1 0 1 0 1 0 1]\n",
            " [1 0 1 0 1 0 1 0]\n",
            " [0 1 0 1 0 1 0 1]\n",
            " [1 0 1 0 1 0 1 0]]\n"
          ]
        }
      ],
      "source": [
        "checkerboard = np.zeros((8, 8), dtype=int)\n",
        "checkerboard[1::2, ::2] = 1\n",
        "checkerboard[::2, 1::2] = 1\n",
        "print(\"8x8 Checkerboard Pattern:\\n\", checkerboard)"
      ]
    },
    {
      "cell_type": "code",
      "execution_count": 55,
      "metadata": {
        "id": "PvWHCWLxZSp4"
      },
      "outputs": [],
      "source": [
        "# Given arrays\n",
        "x = np.array([[1, 2], [3, 5]])\n",
        "y = np.array([[5, 6], [7, 8]])\n",
        "v = np.array([9, 10])\n",
        "w = np.array([11, 12])"
      ]
    },
    {
      "cell_type": "code",
      "execution_count": null,
      "metadata": {
        "colab": {
          "base_uri": "https://localhost:8080/"
        },
        "id": "3zpoUkYPZNQX",
        "outputId": "955fd9c3-24f6-4af6-fddc-cc7e4755e477"
      },
      "outputs": [
        {
          "name": "stdout",
          "output_type": "stream",
          "text": [
            "Addition of x and y:\n",
            " [[ 6  8]\n",
            " [10 13]]\n"
          ]
        }
      ],
      "source": [
        "add_xy = x + y\n",
        "print(\"Addition of x and y:\\n\", add_xy)"
      ]
    },
    {
      "cell_type": "code",
      "execution_count": null,
      "metadata": {
        "colab": {
          "base_uri": "https://localhost:8080/"
        },
        "id": "zzO4KpLjZXO0",
        "outputId": "adc8772b-8e03-407a-ce3a-60c13e807204"
      },
      "outputs": [
        {
          "name": "stdout",
          "output_type": "stream",
          "text": [
            "Subtraction of x and y:\n",
            " [[-4 -4]\n",
            " [-4 -3]]\n"
          ]
        }
      ],
      "source": [
        "sub_xy = x - y\n",
        "print(\"Subtraction of x and y:\\n\", sub_xy)"
      ]
    },
    {
      "cell_type": "code",
      "execution_count": null,
      "metadata": {
        "colab": {
          "base_uri": "https://localhost:8080/"
        },
        "id": "c3PjjTYiZZLD",
        "outputId": "eb95e04a-112e-497d-9d6c-3877e6916baf"
      },
      "outputs": [
        {
          "name": "stdout",
          "output_type": "stream",
          "text": [
            "Multiplication of x with 3:\n",
            " [[ 3  6]\n",
            " [ 9 15]]\n"
          ]
        }
      ],
      "source": [
        "mult_x = x * 3\n",
        "print(\"Multiplication of x with 3:\\n\", mult_x)"
      ]
    },
    {
      "cell_type": "code",
      "execution_count": null,
      "metadata": {
        "colab": {
          "base_uri": "https://localhost:8080/"
        },
        "id": "d3XO7JQ3ZdT7",
        "outputId": "9ca0fb25-4b53-4c3e-a031-daf54804be0a"
      },
      "outputs": [
        {
          "name": "stdout",
          "output_type": "stream",
          "text": [
            "Square of each element in x:\n",
            " [[ 1  4]\n",
            " [ 9 25]]\n"
          ]
        }
      ],
      "source": [
        "square_x = np.square(x)\n",
        "print(\"Square of each element in x:\\n\", square_x)"
      ]
    },
    {
      "cell_type": "code",
      "execution_count": null,
      "metadata": {
        "colab": {
          "base_uri": "https://localhost:8080/"
        },
        "id": "vSRh0lkiZf9p",
        "outputId": "57b04c9b-c43f-4b9e-d54e-129b1abd671b"
      },
      "outputs": [
        {
          "name": "stdout",
          "output_type": "stream",
          "text": [
            "Dot product of v and w: 219\n",
            "Dot product of x and v:\n",
            " [29 77]\n",
            "Dot product of x and y:\n",
            " [[19 22]\n",
            " [50 58]]\n"
          ]
        }
      ],
      "source": [
        "dot_vw = np.dot(v, w)  # Dot product of v and w\n",
        "dot_xv = np.dot(x, v)  # Dot product of x and v\n",
        "dot_xy = np.dot(x, y)  # Dot product of x and y\n",
        "\n",
        "print(\"Dot product of v and w:\", dot_vw)\n",
        "print(\"Dot product of x and v:\\n\", dot_xv)\n",
        "print(\"Dot product of x and y:\\n\", dot_xy)"
      ]
    },
    {
      "cell_type": "code",
      "execution_count": null,
      "metadata": {
        "colab": {
          "base_uri": "https://localhost:8080/"
        },
        "id": "kzTJpYUzZiNT",
        "outputId": "c485f470-9282-4723-9dea-ede42ca3db91"
      },
      "outputs": [
        {
          "name": "stdout",
          "output_type": "stream",
          "text": [
            "Concatenation of x and y along rows:\n",
            " [[1 2]\n",
            " [3 5]\n",
            " [5 6]\n",
            " [7 8]]\n",
            "Concatenation of v and w along columns:\n",
            " [[ 9 10]\n",
            " [11 12]]\n"
          ]
        }
      ],
      "source": [
        "concat_xy_row = np.concatenate((x, y), axis=0)\n",
        "print(\"Concatenation of x and y along rows:\\n\", concat_xy_row)\n",
        "\n",
        "# Concatenate v and w along columns\n",
        "concat_vw_col = np.vstack((v, w))  # Using vstack (same as np.concatenate with axis=0)\n",
        "print(\"Concatenation of v and w along columns:\\n\", concat_vw_col)"
      ]
    },
    {
      "cell_type": "code",
      "execution_count": null,
      "metadata": {
        "colab": {
          "base_uri": "https://localhost:8080/"
        },
        "id": "GNSoZ-lkZkig",
        "outputId": "1c271b4f-c0a1-4e09-c129-4bf8719c4753"
      },
      "outputs": [
        {
          "name": "stdout",
          "output_type": "stream",
          "text": [
            "Error while concatenating x and v: all the input arrays must have same number of dimensions, but the array at index 0 has 2 dimension(s) and the array at index 1 has 1 dimension(s)\n"
          ]
        }
      ],
      "source": [
        "try:\n",
        "    concat_xv = np.concatenate((x, v), axis=0)\n",
        "    print(\"Concatenation of x and v:\\n\", concat_xv)\n",
        "except ValueError as e:\n",
        "    print(\"Error while concatenating x and v:\", e)"
      ]
    },
    {
      "cell_type": "code",
      "execution_count": null,
      "metadata": {
        "colab": {
          "base_uri": "https://localhost:8080/"
        },
        "id": "8teQs7tUa4Do",
        "outputId": "f16712ad-b623-4b6f-efba-0d38e3e34341"
      },
      "outputs": [
        {
          "name": "stdout",
          "output_type": "stream",
          "text": [
            "A * A^(-1) = I:\n",
            " [[1. 0.]\n",
            " [0. 1.]]\n",
            "\n",
            "AB:\n",
            " [[23 13]\n",
            " [51 29]]\n",
            "BA:\n",
            " [[36 44]\n",
            " [13 16]]\n",
            "AB == BA? False\n",
            "\n",
            "(AB)^T:\n",
            " [[23 51]\n",
            " [13 29]]\n",
            "B^T A^T:\n",
            " [[23 51]\n",
            " [13 29]]\n",
            "(AB)^T == B^T A^T? True\n"
          ]
        }
      ],
      "source": [
        "A = np.array([[3, 4], [7, 8]])\n",
        "B = np.array([[5, 3], [2, 1]])\n",
        "# 1.\n",
        "A_inv = np.linalg.inv(A)\n",
        "identity_matrix = np.dot(A, A_inv)\n",
        "print(\"A * A^(-1) = I:\\n\", np.round(identity_matrix, decimals=5))\n",
        "\n",
        "# 2.\n",
        "AB = np.dot(A, B)\n",
        "BA = np.dot(B, A)\n",
        "print(\"\\nAB:\\n\", AB)\n",
        "print(\"BA:\\n\", BA)\n",
        "print(\"AB == BA?\", np.array_equal(AB, BA))  \n",
        "\n",
        "# 3. \n",
        "AB_T = np.transpose(AB)\n",
        "BT_AT = np.dot(np.transpose(B), np.transpose(A))\n",
        "print(\"\\n(AB)^T:\\n\", AB_T)\n",
        "print(\"B^T A^T:\\n\", BT_AT)\n",
        "print(\"(AB)^T == B^T A^T?\", np.array_equal(AB_T, BT_AT)) "
      ]
    },
    {
      "cell_type": "code",
      "execution_count": null,
      "metadata": {
        "colab": {
          "base_uri": "https://localhost:8080/"
        },
        "id": "5O3uYc8db9Tl",
        "outputId": "134d77ec-9c6f-46e1-eca0-242c7ede6b3f"
      },
      "outputs": [
        {
          "name": "stdout",
          "output_type": "stream",
          "text": [
            "\n",
            "Solution using Inverse Method:\n",
            " [ 2.  1. -2.]\n",
            "\n",
            "Solution using np.linalg.solve():\n",
            " [ 2.  1. -2.]\n"
          ]
        }
      ],
      "source": [
        "# 2x − 3y + z = −1\n",
        "# x − y + 2z = −3\n",
        "# 3x + y − z = 9\n",
        "\n",
        "# Representing as AX = B\n",
        "A_matrix = np.array([[2, -3, 1], [1, -1, 2], [3, 1, -1]])  # Coefficients matrix\n",
        "B_matrix = np.array([-1, -3, 9])  # Constant matrix\n",
        "\n",
        "# Solving using inverse method: X = A⁻¹ * B\n",
        "A_inv = np.linalg.inv(A_matrix)  # Compute inverse of A\n",
        "X = np.dot(A_inv, B_matrix)  # Solution for X\n",
        "print(\"\\nSolution using Inverse Method:\\n\", X)\n",
        "\n",
        "# Alternative approach: Using np.linalg.solve()\n",
        "X_solve = np.linalg.solve(A_matrix, B_matrix)\n",
        "print(\"\\nSolution using np.linalg.solve():\\n\", X_solve)"
      ]
    },
    {
      "cell_type": "code",
      "execution_count": 68,
      "metadata": {
        "id": "c_QoTH8SdCQC"
      },
      "outputs": [],
      "source": [
        "import time"
      ]
    },
    {
      "cell_type": "code",
      "execution_count": null,
      "metadata": {
        "colab": {
          "base_uri": "https://localhost:8080/"
        },
        "id": "souftfoEca9l",
        "outputId": "5ec59754-deb8-49c5-c4b9-c78ccb939a45"
      },
      "outputs": [
        {
          "name": "stdout",
          "output_type": "stream",
          "text": [
            "Element-wise addition using Python lists took: 0.142377 seconds\n",
            "Element-wise addition using NumPy arrays took: 0.007966 seconds\n"
          ]
        }
      ],
      "source": [
        "# Using Python lists\n",
        "list1 = [i for i in range(1_000_000)]\n",
        "list2 = [i for i in range(1_000_000, 2_000_000)]\n",
        "start_time = time.time()\n",
        "result_list = [list1[i] + list2[i] for i in range(1_000_000)]  # Element-wise addition\n",
        "end_time = time.time()\n",
        "print(f\"Element-wise addition using Python lists took: {end_time - start_time:.6f} seconds\")\n",
        "\n",
        "# Using NumPy arrays\n",
        "np_array1 = np.arange(1_000_000)\n",
        "np_array2 = np.arange(1_000_000, 2_000_000)\n",
        "start_time = time.time()\n",
        "result_np = np_array1 + np_array2  # Element-wise addition\n",
        "end_time = time.time()\n",
        "print(f\"Element-wise addition using NumPy arrays took: {end_time - start_time:.6f} seconds\")"
      ]
    },
    {
      "cell_type": "code",
      "execution_count": null,
      "metadata": {
        "colab": {
          "base_uri": "https://localhost:8080/"
        },
        "id": "_EMWPMqsc7D5",
        "outputId": "31523a9d-a900-463a-fffa-4966488ef59a"
      },
      "outputs": [
        {
          "name": "stdout",
          "output_type": "stream",
          "text": [
            "Element-wise multiplication using Python lists took: 0.185417 seconds\n",
            "Element-wise multiplication using NumPy arrays took: 0.008147 seconds\n"
          ]
        }
      ],
      "source": [
        "# Using Python lists\n",
        "start_time = time.time()\n",
        "result_list_mult = [list1[i] * list2[i] for i in range(1_000_000)]  # Element-wise multiplication\n",
        "end_time = time.time()\n",
        "print(f\"Element-wise multiplication using Python lists took: {end_time - start_time:.6f} seconds\")\n",
        "\n",
        "# Using NumPy arrays\n",
        "start_time = time.time()\n",
        "result_np_mult = np_array1 * np_array2  # Element-wise multiplication\n",
        "end_time = time.time()\n",
        "print(f\"Element-wise multiplication using NumPy arrays took: {end_time - start_time:.6f} seconds\")"
      ]
    },
    {
      "cell_type": "code",
      "execution_count": null,
      "metadata": {
        "colab": {
          "base_uri": "https://localhost:8080/"
        },
        "id": "JW4Wet4yc9wI",
        "outputId": "6fb324d6-9b26-4ab3-b8ff-508539540484"
      },
      "outputs": [
        {
          "name": "stdout",
          "output_type": "stream",
          "text": [
            "Dot product using Python lists took: 0.256972 seconds\n",
            "Dot product using NumPy arrays took: 0.002123 seconds\n"
          ]
        }
      ],
      "source": [
        "# Using Python lists\n",
        "start_time = time.time()\n",
        "dot_product_list = sum([list1[i] * list2[i] for i in range(1_000_000)])  # Dot product\n",
        "end_time = time.time()\n",
        "print(f\"Dot product using Python lists took: {end_time - start_time:.6f} seconds\")\n",
        "\n",
        "# Using NumPy arrays\n",
        "start_time = time.time()\n",
        "dot_product_np = np.dot(np_array1, np_array2)  # Dot product\n",
        "end_time = time.time()\n",
        "print(f\"Dot product using NumPy arrays took: {end_time - start_time:.6f} seconds\")"
      ]
    },
    {
      "cell_type": "code",
      "execution_count": null,
      "metadata": {
        "colab": {
          "base_uri": "https://localhost:8080/"
        },
        "id": "O_QbjH4PdACk",
        "outputId": "3b978d1e-9284-4b3a-cc17-de3020cca1d0"
      },
      "outputs": [
        {
          "name": "stdout",
          "output_type": "stream",
          "text": [
            "Matrix multiplication using Python lists took: 185.876719 seconds\n",
            "Matrix multiplication using NumPy arrays took: 0.111267 seconds\n"
          ]
        }
      ],
      "source": [
        "# Using Python lists (1000x1000 matrices)\n",
        "matrix1 = [[i for i in range(1000)] for j in range(1000)]\n",
        "matrix2 = [[i for i in range(1000)] for j in range(1000)]\n",
        "start_time = time.time()\n",
        "result_matrix_list = [[sum(matrix1[i][k] * matrix2[k][j] for k in range(1000)) for j in range(1000)] for i in range(1000)]  # Matrix multiplication\n",
        "end_time = time.time()\n",
        "print(f\"Matrix multiplication using Python lists took: {end_time - start_time:.6f} seconds\")\n",
        "\n",
        "# Using NumPy arrays (1000x1000 matrices)\n",
        "np_matrix1 = np.random.rand(1000, 1000)\n",
        "np_matrix2 = np.random.rand(1000, 1000)\n",
        "start_time = time.time()\n",
        "result_matrix_np = np.dot(np_matrix1, np_matrix2)  # Matrix multiplication\n",
        "end_time = time.time()\n",
        "print(f\"Matrix multiplication using NumPy arrays took: {end_time - start_time:.6f} seconds\")"
      ]
    }
  ],
  "metadata": {
    "colab": {
      "provenance": []
    },
    "kernelspec": {
      "display_name": "Python 3",
      "name": "python3"
    },
    "language_info": {
      "name": "python"
    }
  },
  "nbformat": 4,
  "nbformat_minor": 0
}
